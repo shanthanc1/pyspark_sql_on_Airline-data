{
  "nbformat": 4,
  "nbformat_minor": 0,
  "metadata": {
    "colab": {
      "provenance": []
    },
    "kernelspec": {
      "name": "python3",
      "display_name": "Python 3"
    },
    "language_info": {
      "name": "python"
    }
  },
  "cells": [
    {
      "cell_type": "code",
      "execution_count": 1,
      "metadata": {
        "colab": {
          "base_uri": "https://localhost:8080/"
        },
        "id": "GvmAIjR1HL3y",
        "outputId": "3ee66772-5efc-4618-de41-c52d24f3b511"
      },
      "outputs": [
        {
          "output_type": "stream",
          "name": "stdout",
          "text": [
            "Collecting pyspark\n",
            "  Downloading pyspark-3.5.0.tar.gz (316.9 MB)\n",
            "\u001b[2K     \u001b[90m━━━━━━━━━━━━━━━━━━━━━━━━━━━━━━━━━━━━━━━\u001b[0m \u001b[32m316.9/316.9 MB\u001b[0m \u001b[31m2.9 MB/s\u001b[0m eta \u001b[36m0:00:00\u001b[0m\n",
            "\u001b[?25h  Preparing metadata (setup.py) ... \u001b[?25l\u001b[?25hdone\n",
            "Requirement already satisfied: py4j==0.10.9.7 in /usr/local/lib/python3.10/dist-packages (from pyspark) (0.10.9.7)\n",
            "Building wheels for collected packages: pyspark\n",
            "  Building wheel for pyspark (setup.py) ... \u001b[?25l\u001b[?25hdone\n",
            "  Created wheel for pyspark: filename=pyspark-3.5.0-py2.py3-none-any.whl size=317425344 sha256=1a2568dcbbcfa56bf96104c2a6818c5e4882363f39809c5cca287cd7afea8de9\n",
            "  Stored in directory: /root/.cache/pip/wheels/41/4e/10/c2cf2467f71c678cfc8a6b9ac9241e5e44a01940da8fbb17fc\n",
            "Successfully built pyspark\n",
            "Installing collected packages: pyspark\n",
            "Successfully installed pyspark-3.5.0\n"
          ]
        }
      ],
      "source": [
        "!pip install pyspark"
      ]
    },
    {
      "cell_type": "code",
      "source": [
        "import pyspark"
      ],
      "metadata": {
        "id": "51jqG2MXHPGN"
      },
      "execution_count": 2,
      "outputs": []
    },
    {
      "cell_type": "code",
      "source": [
        "from pyspark.sql import SparkSession"
      ],
      "metadata": {
        "id": "4YvQm3LvHamG"
      },
      "execution_count": 3,
      "outputs": []
    },
    {
      "cell_type": "code",
      "source": [
        "spark = SparkSession.builder.appName(\"case_study_sql\").getOrCreate()"
      ],
      "metadata": {
        "id": "Uhd_IVnUHgJx"
      },
      "execution_count": 4,
      "outputs": []
    },
    {
      "cell_type": "code",
      "source": [
        "AirDF = spark.read.option(\"header\", \"true\").csv(\"/content/airlines1.csv\")"
      ],
      "metadata": {
        "id": "I7v18bYKHp9V"
      },
      "execution_count": 6,
      "outputs": []
    },
    {
      "cell_type": "code",
      "source": [
        "AirDF.registerTempTable(\"AirlineTable\")"
      ],
      "metadata": {
        "colab": {
          "base_uri": "https://localhost:8080/"
        },
        "id": "wGFWdT1VIOkJ",
        "outputId": "57efe2cc-492d-4978-8214-4eeb27a15d5b"
      },
      "execution_count": 7,
      "outputs": [
        {
          "output_type": "stream",
          "name": "stderr",
          "text": [
            "/usr/local/lib/python3.10/dist-packages/pyspark/sql/dataframe.py:329: FutureWarning: Deprecated in 2.0, use createOrReplaceTempView instead.\n",
            "  warnings.warn(\"Deprecated in 2.0, use createOrReplaceTempView instead.\", FutureWarning)\n"
          ]
        }
      ]
    },
    {
      "cell_type": "code",
      "source": [
        "spark.sql(\"select * from AirlineTable\").show(5)"
      ],
      "metadata": {
        "colab": {
          "base_uri": "https://localhost:8080/"
        },
        "id": "KqIYgdK5JT8j",
        "outputId": "6537a8d8-8f96-4257-b3ce-7bb671240238"
      },
      "execution_count": 8,
      "outputs": [
        {
          "output_type": "stream",
          "name": "stdout",
          "text": [
            "+---+----+-------+-----+----------+---------+----------+-----------------+------------------------+---------------------------+-----------+-------------------------------+---------------+------------------+------------------+------+------------------+-----------+---------------+---------------+---------+-------------+----------------+----------------+----+--------------------+---------+-------------+--------------+-------+----------+-------+--------+---------------+--------+--------------------+----------+-------+---------+--------+------+----------+-------+--------+---------------+--------+------------------+----------+---------+----------------+--------+--------------+-----------------+-------+-------+--------+-------------+------------+------------+--------+-------------+-----------------+------------+-------------+---------------+------------------+--------------+--------------------+-----------+-----------+-----------+-------------+----------------+------------+--------------+----------------+-------------+-----------+-----------+-------------+----------------+------------+--------------+----------------+-------------+-----------+-----------+-------------+----------------+------------+--------------+----------------+-------------+-----------+-----------+-------------+----------------+------------+--------------+----------------+-------------+-----------+-----------+-------------+----------------+------------+--------------+----------------+-------------+-----------+\n",
            "|_c0|Year|Quarter|Month|DayofMonth|DayOfWeek|FlightDate|Reporting_Airline|DOT_ID_Reporting_Airline|IATA_CODE_Reporting_Airline|Tail_Number|Flight_Number_Reporting_Airline|OriginAirportID|OriginAirportSeqID|OriginCityMarketID|Origin|    OriginCityName|OriginState|OriginStateFips|OriginStateName|OriginWac|DestAirportID|DestAirportSeqID|DestCityMarketID|Dest|        DestCityName|DestState|DestStateFips| DestStateName|DestWac|CRSDepTime|DepTime|DepDelay|DepDelayMinutes|DepDel15|DepartureDelayGroups|DepTimeBlk|TaxiOut|WheelsOff|WheelsOn|TaxiIn|CRSArrTime|ArrTime|ArrDelay|ArrDelayMinutes|ArrDel15|ArrivalDelayGroups|ArrTimeBlk|Cancelled|CancellationCode|Diverted|CRSElapsedTime|ActualElapsedTime|AirTime|Flights|Distance|DistanceGroup|CarrierDelay|WeatherDelay|NASDelay|SecurityDelay|LateAircraftDelay|FirstDepTime|TotalAddGTime|LongestAddGTime|DivAirportLandings|DivReachedDest|DivActualElapsedTime|DivArrDelay|DivDistance|Div1Airport|Div1AirportID|Div1AirportSeqID|Div1WheelsOn|Div1TotalGTime|Div1LongestGTime|Div1WheelsOff|Div1TailNum|Div2Airport|Div2AirportID|Div2AirportSeqID|Div2WheelsOn|Div2TotalGTime|Div2LongestGTime|Div2WheelsOff|Div2TailNum|Div3Airport|Div3AirportID|Div3AirportSeqID|Div3WheelsOn|Div3TotalGTime|Div3LongestGTime|Div3WheelsOff|Div3TailNum|Div4Airport|Div4AirportID|Div4AirportSeqID|Div4WheelsOn|Div4TotalGTime|Div4LongestGTime|Div4WheelsOff|Div4TailNum|Div5Airport|Div5AirportID|Div5AirportSeqID|Div5WheelsOn|Div5TotalGTime|Div5LongestGTime|Div5WheelsOff|Div5TailNum|\n",
            "+---+----+-------+-----+----------+---------+----------+-----------------+------------------------+---------------------------+-----------+-------------------------------+---------------+------------------+------------------+------+------------------+-----------+---------------+---------------+---------+-------------+----------------+----------------+----+--------------------+---------+-------------+--------------+-------+----------+-------+--------+---------------+--------+--------------------+----------+-------+---------+--------+------+----------+-------+--------+---------------+--------+------------------+----------+---------+----------------+--------+--------------+-----------------+-------+-------+--------+-------------+------------+------------+--------+-------------+-----------------+------------+-------------+---------------+------------------+--------------+--------------------+-----------+-----------+-----------+-------------+----------------+------------+--------------+----------------+-------------+-----------+-----------+-------------+----------------+------------+--------------+----------------+-------------+-----------+-----------+-------------+----------------+------------+--------------+----------------+-------------+-----------+-----------+-------------+----------------+------------+--------------+----------------+-------------+-----------+-----------+-------------+----------------+------------+--------------+----------------+-------------+-----------+\n",
            "|  0|1998|      1|    1|         2|        5|1998-01-02|               NW|                   19386|                         NW|     N297US|                            675|          13487|           1348701|             31650|   MSP|   Minneapolis, MN|         MN|           27.0|      Minnesota|       63|        14869|         1486902|           34614| SLC|  Salt Lake City, UT|       UT|         49.0|          Utah|     87|      1640| 1659.0|    19.0|           19.0|     1.0|                 1.0| 1600-1659|   24.0|   1723.0|  1856.0|   3.0|      1836| 1859.0|    23.0|           23.0|     1.0|               1.0| 1800-1859|      0.0|            NULL|     0.0|         176.0|            180.0|  153.0|    1.0|   991.0|            4|        NULL|        NULL|    NULL|         NULL|             NULL|        NULL|         NULL|           NULL|              NULL|          NULL|                NULL|       NULL|       NULL|       NULL|         NULL|            NULL|        NULL|          NULL|            NULL|         NULL|       NULL|       NULL|         NULL|            NULL|        NULL|          NULL|            NULL|         NULL|       NULL|       NULL|         NULL|            NULL|        NULL|          NULL|            NULL|         NULL|       NULL|       NULL|         NULL|            NULL|        NULL|          NULL|            NULL|         NULL|       NULL|       NULL|         NULL|            NULL|        NULL|          NULL|            NULL|         NULL|       NULL|\n",
            "|  1|2009|      2|    5|        28|        4|2009-05-28|               FL|                   20437|                         FL|     N946AT|                            671|          13342|           1334202|             33342|   MKE|     Milwaukee, WI|         WI|           55.0|      Wisconsin|       45|        13204|         1320401|           31454| MCO|         Orlando, FL|       FL|         12.0|       Florida|     33|      1204| 1202.0|    -2.0|            0.0|     0.0|                -1.0| 1200-1259|   10.0|   1212.0|  1533.0|   8.0|      1541| 1541.0|     0.0|            0.0|     0.0|               0.0| 1500-1559|      0.0|            NULL|     0.0|         157.0|            159.0|  141.0|    1.0|  1066.0|            5|        NULL|        NULL|    NULL|         NULL|             NULL|        NULL|         NULL|           NULL|               0.0|          NULL|                NULL|       NULL|       NULL|       NULL|         NULL|            NULL|        NULL|          NULL|            NULL|         NULL|       NULL|       NULL|         NULL|            NULL|        NULL|          NULL|            NULL|         NULL|       NULL|       NULL|         NULL|            NULL|        NULL|          NULL|            NULL|         NULL|       NULL|       NULL|         NULL|            NULL|        NULL|          NULL|            NULL|         NULL|       NULL|       NULL|         NULL|            NULL|        NULL|          NULL|            NULL|         NULL|       NULL|\n",
            "|  2|2013|      2|    6|        29|        6|2013-06-29|               MQ|                   20398|                         MQ|     N665MQ|                           3297|          11921|           1192102|             31921|   GJT|Grand Junction, CO|         CO|            8.0|       Colorado|       82|        11298|         1129803|           30194| DFW|Dallas/Fort Worth...|       TX|         48.0|         Texas|     74|      1630| 1644.0|    14.0|           14.0|     0.0|                 0.0| 1600-1659|    9.0|   1653.0|  1936.0|   6.0|      1945| 1942.0|    -3.0|            0.0|     0.0|              -1.0| 1900-1959|      0.0|            NULL|     0.0|         135.0|            118.0|  103.0|    1.0|   773.0|            4|        NULL|        NULL|    NULL|         NULL|             NULL|        NULL|         NULL|           NULL|               0.0|          NULL|                NULL|       NULL|       NULL|       NULL|         NULL|            NULL|        NULL|          NULL|            NULL|         NULL|       NULL|       NULL|         NULL|            NULL|        NULL|          NULL|            NULL|         NULL|       NULL|       NULL|         NULL|            NULL|        NULL|          NULL|            NULL|         NULL|       NULL|       NULL|         NULL|            NULL|        NULL|          NULL|            NULL|         NULL|       NULL|       NULL|         NULL|            NULL|        NULL|          NULL|            NULL|         NULL|       NULL|\n",
            "|  3|2010|      3|    8|        31|        2|2010-08-31|               DL|                   19790|                         DL|     N6705Y|                           1806|          12892|           1289201|             32575|   LAX|   Los Angeles, CA|         CA|            6.0|     California|       91|        11433|         1143301|           31295| DTW|         Detroit, MI|       MI|         26.0|      Michigan|     43|      1305| 1305.0|     0.0|            0.0|     0.0|                 0.0| 1300-1359|   23.0|   1328.0|  2008.0|   7.0|      2035| 2015.0|   -20.0|            0.0|     0.0|              -2.0| 2000-2059|      0.0|            NULL|     0.0|         270.0|            250.0|  220.0|    1.0|  1979.0|            8|        NULL|        NULL|    NULL|         NULL|             NULL|        NULL|         NULL|           NULL|               0.0|          NULL|                NULL|       NULL|       NULL|       NULL|         NULL|            NULL|        NULL|          NULL|            NULL|         NULL|       NULL|       NULL|         NULL|            NULL|        NULL|          NULL|            NULL|         NULL|       NULL|       NULL|         NULL|            NULL|        NULL|          NULL|            NULL|         NULL|       NULL|       NULL|         NULL|            NULL|        NULL|          NULL|            NULL|         NULL|       NULL|       NULL|         NULL|            NULL|        NULL|          NULL|            NULL|         NULL|       NULL|\n",
            "|  4|2006|      1|    1|        15|        7|2006-01-15|               US|                   20355|                         US|     N504AU|                            465|          11618|           1161801|             31703|   EWR|        Newark, NJ|         NJ|           34.0|     New Jersey|       21|        11057|         1105702|           31057| CLT|       Charlotte, NC|       NC|         37.0|North Carolina|     36|      1820| 1911.0|    51.0|           51.0|     1.0|                 3.0| 1800-1859|   19.0|   1930.0|  2050.0|   8.0|      2026| 2058.0|    32.0|           32.0|     1.0|               2.0| 2000-2059|      0.0|            NULL|     0.0|         126.0|            107.0|   80.0|    1.0|   529.0|            3|         0.0|         0.0|     0.0|          0.0|             32.0|        NULL|         NULL|           NULL|              NULL|          NULL|                NULL|       NULL|       NULL|       NULL|         NULL|            NULL|        NULL|          NULL|            NULL|         NULL|       NULL|       NULL|         NULL|            NULL|        NULL|          NULL|            NULL|         NULL|       NULL|       NULL|         NULL|            NULL|        NULL|          NULL|            NULL|         NULL|       NULL|       NULL|         NULL|            NULL|        NULL|          NULL|            NULL|         NULL|       NULL|       NULL|         NULL|            NULL|        NULL|          NULL|            NULL|         NULL|       NULL|\n",
            "+---+----+-------+-----+----------+---------+----------+-----------------+------------------------+---------------------------+-----------+-------------------------------+---------------+------------------+------------------+------+------------------+-----------+---------------+---------------+---------+-------------+----------------+----------------+----+--------------------+---------+-------------+--------------+-------+----------+-------+--------+---------------+--------+--------------------+----------+-------+---------+--------+------+----------+-------+--------+---------------+--------+------------------+----------+---------+----------------+--------+--------------+-----------------+-------+-------+--------+-------------+------------+------------+--------+-------------+-----------------+------------+-------------+---------------+------------------+--------------+--------------------+-----------+-----------+-----------+-------------+----------------+------------+--------------+----------------+-------------+-----------+-----------+-------------+----------------+------------+--------------+----------------+-------------+-----------+-----------+-------------+----------------+------------+--------------+----------------+-------------+-----------+-----------+-------------+----------------+------------+--------------+----------------+-------------+-----------+-----------+-------------+----------------+------------+--------------+----------------+-------------+-----------+\n",
            "only showing top 5 rows\n",
            "\n"
          ]
        }
      ]
    },
    {
      "cell_type": "code",
      "source": [
        "spark.sql(\"select count(*) from AirlineTable\").show()"
      ],
      "metadata": {
        "colab": {
          "base_uri": "https://localhost:8080/"
        },
        "id": "3n0sTPtNJYYb",
        "outputId": "0a17c18b-1253-4279-9402-9c54d9a59a94"
      },
      "execution_count": 9,
      "outputs": [
        {
          "output_type": "stream",
          "name": "stdout",
          "text": [
            "+--------+\n",
            "|count(1)|\n",
            "+--------+\n",
            "|   50001|\n",
            "+--------+\n",
            "\n"
          ]
        }
      ]
    },
    {
      "cell_type": "code",
      "source": [
        "spark.sql(\"describe AirlineTable\").show(50)"
      ],
      "metadata": {
        "colab": {
          "base_uri": "https://localhost:8080/"
        },
        "id": "5ngKx0EoJbpp",
        "outputId": "2dd0dc6e-efd3-4a98-83ba-0bed69269958"
      },
      "execution_count": 10,
      "outputs": [
        {
          "output_type": "stream",
          "name": "stdout",
          "text": [
            "+--------------------+---------+-------+\n",
            "|            col_name|data_type|comment|\n",
            "+--------------------+---------+-------+\n",
            "|                 _c0|   string|   NULL|\n",
            "|                Year|   string|   NULL|\n",
            "|             Quarter|   string|   NULL|\n",
            "|               Month|   string|   NULL|\n",
            "|          DayofMonth|   string|   NULL|\n",
            "|           DayOfWeek|   string|   NULL|\n",
            "|          FlightDate|   string|   NULL|\n",
            "|   Reporting_Airline|   string|   NULL|\n",
            "|DOT_ID_Reporting_...|   string|   NULL|\n",
            "|IATA_CODE_Reporti...|   string|   NULL|\n",
            "|         Tail_Number|   string|   NULL|\n",
            "|Flight_Number_Rep...|   string|   NULL|\n",
            "|     OriginAirportID|   string|   NULL|\n",
            "|  OriginAirportSeqID|   string|   NULL|\n",
            "|  OriginCityMarketID|   string|   NULL|\n",
            "|              Origin|   string|   NULL|\n",
            "|      OriginCityName|   string|   NULL|\n",
            "|         OriginState|   string|   NULL|\n",
            "|     OriginStateFips|   string|   NULL|\n",
            "|     OriginStateName|   string|   NULL|\n",
            "|           OriginWac|   string|   NULL|\n",
            "|       DestAirportID|   string|   NULL|\n",
            "|    DestAirportSeqID|   string|   NULL|\n",
            "|    DestCityMarketID|   string|   NULL|\n",
            "|                Dest|   string|   NULL|\n",
            "|        DestCityName|   string|   NULL|\n",
            "|           DestState|   string|   NULL|\n",
            "|       DestStateFips|   string|   NULL|\n",
            "|       DestStateName|   string|   NULL|\n",
            "|             DestWac|   string|   NULL|\n",
            "|          CRSDepTime|   string|   NULL|\n",
            "|             DepTime|   string|   NULL|\n",
            "|            DepDelay|   string|   NULL|\n",
            "|     DepDelayMinutes|   string|   NULL|\n",
            "|            DepDel15|   string|   NULL|\n",
            "|DepartureDelayGroups|   string|   NULL|\n",
            "|          DepTimeBlk|   string|   NULL|\n",
            "|             TaxiOut|   string|   NULL|\n",
            "|           WheelsOff|   string|   NULL|\n",
            "|            WheelsOn|   string|   NULL|\n",
            "|              TaxiIn|   string|   NULL|\n",
            "|          CRSArrTime|   string|   NULL|\n",
            "|             ArrTime|   string|   NULL|\n",
            "|            ArrDelay|   string|   NULL|\n",
            "|     ArrDelayMinutes|   string|   NULL|\n",
            "|            ArrDel15|   string|   NULL|\n",
            "|  ArrivalDelayGroups|   string|   NULL|\n",
            "|          ArrTimeBlk|   string|   NULL|\n",
            "|           Cancelled|   string|   NULL|\n",
            "|    CancellationCode|   string|   NULL|\n",
            "+--------------------+---------+-------+\n",
            "only showing top 50 rows\n",
            "\n"
          ]
        }
      ]
    },
    {
      "cell_type": "code",
      "source": [
        "# select some columns form table\n",
        "spark.sql(\"select origin,destcityname from AirlineTable\").show(5)"
      ],
      "metadata": {
        "colab": {
          "base_uri": "https://localhost:8080/"
        },
        "id": "va2vN-e9KEvJ",
        "outputId": "ed3f449a-5a1c-4bb5-b0c0-292dfec75715"
      },
      "execution_count": 11,
      "outputs": [
        {
          "output_type": "stream",
          "name": "stdout",
          "text": [
            "+------+--------------------+\n",
            "|origin|        destcityname|\n",
            "+------+--------------------+\n",
            "|   MSP|  Salt Lake City, UT|\n",
            "|   MKE|         Orlando, FL|\n",
            "|   GJT|Dallas/Fort Worth...|\n",
            "|   LAX|         Detroit, MI|\n",
            "|   EWR|       Charlotte, NC|\n",
            "+------+--------------------+\n",
            "only showing top 5 rows\n",
            "\n"
          ]
        }
      ]
    },
    {
      "cell_type": "code",
      "source": [
        "# average departure delay\n",
        "spark.sql(\"select avg(DepDelayMinutes) from AirlineTable\").show()"
      ],
      "metadata": {
        "colab": {
          "base_uri": "https://localhost:8080/"
        },
        "id": "E4b4et5WKHoo",
        "outputId": "4baadb15-609f-4e2a-cde5-5543d9865696"
      },
      "execution_count": 12,
      "outputs": [
        {
          "output_type": "stream",
          "name": "stdout",
          "text": [
            "+--------------------+\n",
            "|avg(DepDelayMinutes)|\n",
            "+--------------------+\n",
            "|  10.851455322613475|\n",
            "+--------------------+\n",
            "\n"
          ]
        }
      ]
    },
    {
      "cell_type": "code",
      "source": [
        "#calculating overall flights delay\n",
        "spark.sql(\"select Flight_Number_Reporting_Airline,DepDelay+ArrDelay as Total_delay from AirlineTable\").show()"
      ],
      "metadata": {
        "colab": {
          "base_uri": "https://localhost:8080/"
        },
        "id": "c9lZ3X0EKKmG",
        "outputId": "3d11ab4f-d964-4980-cbf0-6771a6512615"
      },
      "execution_count": 13,
      "outputs": [
        {
          "output_type": "stream",
          "name": "stdout",
          "text": [
            "+-------------------------------+-----------+\n",
            "|Flight_Number_Reporting_Airline|Total_delay|\n",
            "+-------------------------------+-----------+\n",
            "|                            675|       42.0|\n",
            "|                            671|       -2.0|\n",
            "|                           3297|       11.0|\n",
            "|                           1806|      -20.0|\n",
            "|                            465|       83.0|\n",
            "|                           1198|       11.0|\n",
            "|                           1431|       -2.0|\n",
            "|                           3459|      435.0|\n",
            "|                           7233|       12.0|\n",
            "|                           5932|       45.0|\n",
            "|                           2135|        8.0|\n",
            "|                           1463|       -5.0|\n",
            "|                            830|      -13.0|\n",
            "|                           6474|      -23.0|\n",
            "|                            674|      -21.0|\n",
            "|                            362|       10.0|\n",
            "|                           1678|      -18.0|\n",
            "|                            413|      -35.0|\n",
            "|                            210|      -17.0|\n",
            "|                            995|       NULL|\n",
            "+-------------------------------+-----------+\n",
            "only showing top 20 rows\n",
            "\n"
          ]
        }
      ]
    },
    {
      "cell_type": "code",
      "source": [
        "# count total number of flights by origin airport and total avg and maximum DepDelay time of each airport\n",
        "spark.sql(\"select origin,count(*),avg(DepDelayMinutes),max(DepDelayMinutes) from AirlineTable where group by origin\").show()"
      ],
      "metadata": {
        "colab": {
          "base_uri": "https://localhost:8080/"
        },
        "id": "1sFMh34mKy5K",
        "outputId": "716ff345-9e71-4b96-d881-482f4738ebfc"
      },
      "execution_count": 16,
      "outputs": [
        {
          "output_type": "stream",
          "name": "stdout",
          "text": [
            "+------+--------+--------------------+--------------------+\n",
            "|origin|count(1)|avg(DepDelayMinutes)|max(DepDelayMinutes)|\n",
            "+------+--------+--------------------+--------------------+\n",
            "|   ABE|      49|   6.659574468085107|                44.0|\n",
            "|   ABI|      11|  0.5555555555555556|                 4.0|\n",
            "|   ABQ|     290|   9.041958041958042|                 9.0|\n",
            "|   ABR|       3|               284.0|               852.0|\n",
            "|   ABY|       3|                20.0|                30.0|\n",
            "|   ACK|       1|                 0.0|                 0.0|\n",
            "|   ACT|      16|              3.1875|                33.0|\n",
            "|   ACV|      14|   7.071428571428571|                 7.0|\n",
            "|   ACY|       5|                 7.6|                38.0|\n",
            "|   ADK|       2|                 6.5|                13.0|\n",
            "|   ADQ|       4|   4.666666666666667|                14.0|\n",
            "|   AEX|      11|   8.090909090909092|                34.0|\n",
            "|   AGS|      27|  23.814814814814813|                64.0|\n",
            "|   AKN|       2|                 9.5|                 4.0|\n",
            "|   ALB|     111|  7.5504587155963305|                 9.0|\n",
            "|   ALO|       3|                 0.0|                 0.0|\n",
            "|   AMA|      47|   9.065217391304348|                72.0|\n",
            "|   ANC|     146|  11.282758620689656|                 9.0|\n",
            "|   APN|       2|                 0.0|                 0.0|\n",
            "|   ART|       1|                 0.0|                 0.0|\n",
            "+------+--------+--------------------+--------------------+\n",
            "only showing top 20 rows\n",
            "\n"
          ]
        }
      ]
    },
    {
      "cell_type": "code",
      "source": [
        " # calculating origin state wise cancelled flights\n",
        "spark.sql(\"select OriginState,count(Cancelled) from AirlineTable where Cancelled = 1  group by originstate\").show(5)"
      ],
      "metadata": {
        "colab": {
          "base_uri": "https://localhost:8080/"
        },
        "id": "cRDnrrGfLGt9",
        "outputId": "207de67e-b732-4a28-c78c-a7659bd8d47d"
      },
      "execution_count": 17,
      "outputs": [
        {
          "output_type": "stream",
          "name": "stdout",
          "text": [
            "+-----------+----------------+\n",
            "|OriginState|count(Cancelled)|\n",
            "+-----------+----------------+\n",
            "|         SC|               8|\n",
            "|         AZ|              12|\n",
            "|         LA|               5|\n",
            "|         MN|              26|\n",
            "|         NJ|              27|\n",
            "+-----------+----------------+\n",
            "only showing top 5 rows\n",
            "\n"
          ]
        }
      ]
    },
    {
      "cell_type": "code",
      "source": [
        "#passing condition on two columns\n",
        "spark.sql(\"select origin,count(*) from AirlineTable where year = 2010 and month = 6  group by origin order by count(*) desc\").show()"
      ],
      "metadata": {
        "colab": {
          "base_uri": "https://localhost:8080/"
        },
        "id": "TON4tP8_Lo09",
        "outputId": "83cfc548-1cbf-4cbe-9706-42491c79487a"
      },
      "execution_count": 18,
      "outputs": [
        {
          "output_type": "stream",
          "name": "stdout",
          "text": [
            "+------+--------+\n",
            "|origin|count(1)|\n",
            "+------+--------+\n",
            "|   ATL|       8|\n",
            "|   ORD|       7|\n",
            "|   PHX|       6|\n",
            "|   DFW|       6|\n",
            "|   MCO|       6|\n",
            "|   IAH|       5|\n",
            "|   LAX|       5|\n",
            "|   CLE|       4|\n",
            "|   TPA|       3|\n",
            "|   BOS|       3|\n",
            "|   LAS|       3|\n",
            "|   CMH|       3|\n",
            "|   CLT|       3|\n",
            "|   MIA|       3|\n",
            "|   IAD|       3|\n",
            "|   SFO|       3|\n",
            "|   MEM|       3|\n",
            "|   SYR|       2|\n",
            "|   EWR|       2|\n",
            "|   COS|       2|\n",
            "+------+--------+\n",
            "only showing top 20 rows\n",
            "\n"
          ]
        }
      ]
    },
    {
      "cell_type": "code",
      "source": [
        "# passing more than two condition on difftent columns\n",
        "spark.sql(\"select DOT_ID_Reporting_Airline from AirlineTable where year = 2015 and month = 12 and origin = 'JFK'\").show()"
      ],
      "metadata": {
        "colab": {
          "base_uri": "https://localhost:8080/"
        },
        "id": "SxANREeyME_D",
        "outputId": "6d9a6d2b-1f32-431b-f699-cc76df3d28cb"
      },
      "execution_count": 19,
      "outputs": [
        {
          "output_type": "stream",
          "name": "stdout",
          "text": [
            "+------------------------+\n",
            "|DOT_ID_Reporting_Airline|\n",
            "+------------------------+\n",
            "|                   20409|\n",
            "|                   19805|\n",
            "+------------------------+\n",
            "\n"
          ]
        }
      ]
    },
    {
      "cell_type": "code",
      "source": [
        "#rank and number of diverted flight by origin\n",
        "spark.sql(\"select origin,sum(diverted),RANK() over(order by sum(diverted) desc) AS RANKING from AirlineTable group by origin\").show()"
      ],
      "metadata": {
        "colab": {
          "base_uri": "https://localhost:8080/"
        },
        "id": "waM52u2HMVF1",
        "outputId": "d7141f19-ab2f-4ff9-ecc9-8ee3334580a0"
      },
      "execution_count": 20,
      "outputs": [
        {
          "output_type": "stream",
          "name": "stdout",
          "text": [
            "+------+-------------+-------+\n",
            "|origin|sum(diverted)|RANKING|\n",
            "+------+-------------+-------+\n",
            "|   DEN|          6.0|      1|\n",
            "|   ATL|          6.0|      1|\n",
            "|   ORD|          6.0|      1|\n",
            "|   MSP|          6.0|      1|\n",
            "|   DFW|          5.0|      5|\n",
            "|   FLL|          5.0|      5|\n",
            "|   CVG|          4.0|      7|\n",
            "|   CLT|          4.0|      7|\n",
            "|   LAX|          4.0|      7|\n",
            "|   MCO|          4.0|      7|\n",
            "|   CMH|          3.0|     11|\n",
            "|   SEA|          3.0|     11|\n",
            "|   PDX|          3.0|     11|\n",
            "|   BWI|          3.0|     11|\n",
            "|   STL|          3.0|     11|\n",
            "|   PIT|          3.0|     11|\n",
            "|   DCA|          2.0|     17|\n",
            "|   PSG|          2.0|     17|\n",
            "|   BNA|          2.0|     17|\n",
            "|   IAH|          2.0|     17|\n",
            "+------+-------------+-------+\n",
            "only showing top 20 rows\n",
            "\n"
          ]
        }
      ]
    },
    {
      "cell_type": "markdown",
      "source": [
        "Calculating flight performance year wise"
      ],
      "metadata": {
        "id": "XEC9qdwqPtS7"
      }
    },
    {
      "cell_type": "code",
      "source": [
        "df1 = spark.sql(\"select year,count(*) AS TOTAL_FLIGHT ,count(arrdelay==0) AS TOTAL_ON_TIME,sum(cancelled) AS TOTAL_CANCELLED,sum(diverted) AS TOTAL_DIRVERTED from AirlineTable where group by year;\")"
      ],
      "metadata": {
        "id": "4GjluO1-P1B7"
      },
      "execution_count": 21,
      "outputs": []
    },
    {
      "cell_type": "code",
      "source": [
        "df1.registerTempTable(\"AirlineTable1\")"
      ],
      "metadata": {
        "id": "6AGI-qNNQAyb"
      },
      "execution_count": 22,
      "outputs": []
    },
    {
      "cell_type": "code",
      "source": [
        "spark.sql(\"select * from AirlineTable1\").show()"
      ],
      "metadata": {
        "colab": {
          "base_uri": "https://localhost:8080/"
        },
        "id": "EyHASbTYQK-E",
        "outputId": "e3e3b561-d91f-478c-dc55-a64553a51a08"
      },
      "execution_count": 23,
      "outputs": [
        {
          "output_type": "stream",
          "name": "stdout",
          "text": [
            "+----+------------+-------------+---------------+---------------+\n",
            "|year|TOTAL_FLIGHT|TOTAL_ON_TIME|TOTAL_CANCELLED|TOTAL_DIRVERTED|\n",
            "+----+------------+-------------+---------------+---------------+\n",
            "|1987|         339|          336|            3.0|            0.0|\n",
            "|2016|        1502|         1484|           17.0|            1.0|\n",
            "|2020|         462|          438|           24.0|            0.0|\n",
            "|2012|        1519|         1497|           20.0|            2.0|\n",
            "|1988|        1310|         1293|           15.0|            2.0|\n",
            "|2019|        1900|         1862|           34.0|            4.0|\n",
            "|2017|        1449|         1421|           22.0|            6.0|\n",
            "|2014|        1513|         1476|           31.0|            6.0|\n",
            "|2013|        1690|         1663|           22.0|            5.0|\n",
            "|2005|        1812|         1776|           33.0|            3.0|\n",
            "|2000|        1477|         1432|           42.0|            3.0|\n",
            "|2002|        1371|         1360|           11.0|            0.0|\n",
            "|2009|        1604|         1578|           19.0|            7.0|\n",
            "|2018|        1862|         1833|           24.0|            5.0|\n",
            "|1995|        1377|         1352|           22.0|            3.0|\n",
            "|2006|        1900|         1862|           30.0|            8.0|\n",
            "|2004|        1847|         1815|           29.0|            3.0|\n",
            "|2011|        1551|         1516|           29.0|            6.0|\n",
            "|1989|        1288|         1259|           26.0|            3.0|\n",
            "|1992|        1335|         1318|           14.0|            3.0|\n",
            "+----+------------+-------------+---------------+---------------+\n",
            "only showing top 20 rows\n",
            "\n"
          ]
        }
      ]
    },
    {
      "cell_type": "code",
      "source": [
        "# performance in percentage\n",
        "spark.sql(\"select year,TOTAL_FLIGHT,TOTAL_ON_TIME,TOTAL_ON_TIME*100/TOTAL_FLIGHT AS ON_TIME_PERCENTAGE,TOTAL_CANCELLED,TOTAL_CANCELLED*100/TOTAL_FLIGHT AS CANCELLED_PERCENTAGE,TOTAL_DIRVERTED,TOTAL_DIRVERTED*100/TOTAL_FLIGHT AS DIVERTED_PERCENTAGE from AirlineTable1;\").show()"
      ],
      "metadata": {
        "colab": {
          "base_uri": "https://localhost:8080/"
        },
        "id": "nnCL5ymjQMrY",
        "outputId": "ea957b08-617c-45b4-baf5-18ca3f614d31"
      },
      "execution_count": 24,
      "outputs": [
        {
          "output_type": "stream",
          "name": "stdout",
          "text": [
            "+----+------------+-------------+------------------+---------------+--------------------+---------------+-------------------+\n",
            "|year|TOTAL_FLIGHT|TOTAL_ON_TIME|ON_TIME_PERCENTAGE|TOTAL_CANCELLED|CANCELLED_PERCENTAGE|TOTAL_DIRVERTED|DIVERTED_PERCENTAGE|\n",
            "+----+------------+-------------+------------------+---------------+--------------------+---------------+-------------------+\n",
            "|1987|         339|          336| 99.11504424778761|            3.0|  0.8849557522123894|            0.0|                0.0|\n",
            "|2016|        1502|         1484| 98.80159786950732|           17.0|  1.1318242343541944|            1.0|0.06657789613848203|\n",
            "|2020|         462|          438|  94.8051948051948|           24.0|   5.194805194805195|            0.0|                0.0|\n",
            "|2012|        1519|         1497| 98.55167873601053|           20.0|   1.316655694535879|            2.0| 0.1316655694535879|\n",
            "|1988|        1310|         1293| 98.70229007633588|           15.0|  1.1450381679389312|            2.0|0.15267175572519084|\n",
            "|2019|        1900|         1862|              98.0|           34.0|  1.7894736842105263|            4.0|0.21052631578947367|\n",
            "|2017|        1449|         1421| 98.06763285024155|           22.0|   1.518288474810214|            6.0| 0.4140786749482402|\n",
            "|2014|        1513|         1476| 97.55452742894911|           31.0|   2.048909451421018|            6.0| 0.3965631196298744|\n",
            "|2013|        1690|         1663| 98.40236686390533|           22.0|   1.301775147928994|            5.0| 0.2958579881656805|\n",
            "|2005|        1812|         1776| 98.01324503311258|           33.0|  1.8211920529801324|            3.0|0.16556291390728478|\n",
            "|2000|        1477|         1432|  96.9532836831415|           42.0|   2.843601895734597|            3.0| 0.2031144211238998|\n",
            "|2002|        1371|         1360| 99.19766593727206|           11.0|  0.8023340627279358|            0.0|                0.0|\n",
            "|2009|        1604|         1578|  98.3790523690773|           19.0|  1.1845386533665836|            7.0|0.43640897755610975|\n",
            "|2018|        1862|         1833| 98.44253490870032|           24.0|   1.288936627282492|            5.0|0.26852846401718583|\n",
            "|1995|        1377|         1352| 98.18445896877269|           22.0|   1.597676107480029|            3.0| 0.2178649237472767|\n",
            "|2006|        1900|         1862|              98.0|           30.0|  1.5789473684210527|            8.0|0.42105263157894735|\n",
            "|2004|        1847|         1815| 98.26746074715756|           29.0|  1.5701136978884678|            3.0|0.16242555495397942|\n",
            "|2011|        1551|         1516| 97.74339136041263|           29.0|  1.8697614442295294|            6.0|0.38684719535783363|\n",
            "|1989|        1288|         1259| 97.74844720496894|           26.0|   2.018633540372671|            3.0| 0.2329192546583851|\n",
            "|1992|        1335|         1318| 98.72659176029963|           14.0|   1.048689138576779|            3.0| 0.2247191011235955|\n",
            "+----+------------+-------------+------------------+---------------+--------------------+---------------+-------------------+\n",
            "only showing top 20 rows\n",
            "\n"
          ]
        }
      ]
    },
    {
      "cell_type": "code",
      "source": [
        "df2 = spark.sql(\"select origincityname,count(*) AS TOTAL_FLIGHT ,count(arrdelay==0) AS TOTAL_ON_TIME,sum(cancelled) AS TOTAL_CANCELLED,sum(diverted) AS TOTAL_DIRVERTED from AirlineTable where group by origincityname;\")"
      ],
      "metadata": {
        "id": "c7NphR9PQllV"
      },
      "execution_count": 25,
      "outputs": []
    },
    {
      "cell_type": "code",
      "source": [
        "df2.registerTempTable(\"AirlineTable2\")"
      ],
      "metadata": {
        "id": "qK-i-j6DQyp-"
      },
      "execution_count": 26,
      "outputs": []
    },
    {
      "cell_type": "code",
      "source": [
        "spark.sql(\"select * from AirlineTable2\").show()"
      ],
      "metadata": {
        "colab": {
          "base_uri": "https://localhost:8080/"
        },
        "id": "rbyzEpEdQ7cI",
        "outputId": "d383ccc9-ccd4-4b4f-ea19-9243b6c054b7"
      },
      "execution_count": 27,
      "outputs": [
        {
          "output_type": "stream",
          "name": "stdout",
          "text": [
            "+------------------+------------+-------------+---------------+---------------+\n",
            "|    origincityname|TOTAL_FLIGHT|TOTAL_ON_TIME|TOTAL_CANCELLED|TOTAL_DIRVERTED|\n",
            "+------------------+------------+-------------+---------------+---------------+\n",
            "|   Gainesville, FL|          18|           18|            0.0|            0.0|\n",
            "|      Richmond, VA|         146|          141|            5.0|            0.0|\n",
            "|        Tucson, AZ|         157|          155|            2.0|            0.0|\n",
            "|       Ontario, CA|         270|          266|            3.0|            1.0|\n",
            "|        Pierre, SD|           1|            1|            0.0|            0.0|\n",
            "|     Pago Pago, TT|           1|            1|            0.0|            0.0|\n",
            "|       Medford, OR|          21|           21|            0.0|            0.0|\n",
            "|  Myrtle Beach, SC|          41|           40|            1.0|            0.0|\n",
            "|  Palm Springs, CA|          85|           80|            3.0|            2.0|\n",
            "|       Redding, CA|           8|            8|            0.0|            0.0|\n",
            "|       Durango, CO|           9|            9|            0.0|            0.0|\n",
            "|      Gustavus, AK|           1|            1|            0.0|            0.0|\n",
            "|Corpus Christi, TX|          48|           48|            0.0|            0.0|\n",
            "|        Mobile, AL|          33|           33|            0.0|            0.0|\n",
            "|       Dubuque, IA|           6|            5|            1.0|            0.0|\n",
            "|    Fort Myers, FL|         193|          189|            4.0|            0.0|\n",
            "|    Huntsville, AL|          67|           62|            5.0|            0.0|\n",
            "|     Pensacola, FL|          73|           72|            1.0|            0.0|\n",
            "|      Columbus, GA|          14|           14|            0.0|            0.0|\n",
            "|   Springfield, IL|          12|           11|            1.0|            0.0|\n",
            "+------------------+------------+-------------+---------------+---------------+\n",
            "only showing top 20 rows\n",
            "\n"
          ]
        }
      ]
    },
    {
      "cell_type": "code",
      "source": [
        "spark.sql(\"select origincityname,TOTAL_FLIGHT,TOTAL_ON_TIME,TOTAL_ON_TIME*100/TOTAL_FLIGHT AS ON_TIME_PER,TOTAL_CANCELLED,TOTAL_CANCELLED*100/TOTAL_FLIGHT AS CANCELLED_PER,TOTAL_DIRVERTED,TOTAL_DIRVERTED*100/TOTAL_FLIGHT AS DIVERTED_PER from AirlineTable2;\").show()"
      ],
      "metadata": {
        "colab": {
          "base_uri": "https://localhost:8080/"
        },
        "id": "a2a0fy9yQ94x",
        "outputId": "160fa3e0-53ee-4ad1-da6b-d5aa5cde976d"
      },
      "execution_count": 28,
      "outputs": [
        {
          "output_type": "stream",
          "name": "stdout",
          "text": [
            "+------------------+------------+-------------+-----------------+---------------+------------------+---------------+-------------------+\n",
            "|    origincityname|TOTAL_FLIGHT|TOTAL_ON_TIME|      ON_TIME_PER|TOTAL_CANCELLED|     CANCELLED_PER|TOTAL_DIRVERTED|       DIVERTED_PER|\n",
            "+------------------+------------+-------------+-----------------+---------------+------------------+---------------+-------------------+\n",
            "|   Gainesville, FL|          18|           18|            100.0|            0.0|               0.0|            0.0|                0.0|\n",
            "|      Richmond, VA|         146|          141|96.57534246575342|            5.0|3.4246575342465753|            0.0|                0.0|\n",
            "|        Tucson, AZ|         157|          155|98.72611464968153|            2.0|1.2738853503184713|            0.0|                0.0|\n",
            "|       Ontario, CA|         270|          266|98.51851851851852|            3.0|1.1111111111111112|            1.0|0.37037037037037035|\n",
            "|        Pierre, SD|           1|            1|            100.0|            0.0|               0.0|            0.0|                0.0|\n",
            "|     Pago Pago, TT|           1|            1|            100.0|            0.0|               0.0|            0.0|                0.0|\n",
            "|       Medford, OR|          21|           21|            100.0|            0.0|               0.0|            0.0|                0.0|\n",
            "|  Myrtle Beach, SC|          41|           40| 97.5609756097561|            1.0|2.4390243902439024|            0.0|                0.0|\n",
            "|  Palm Springs, CA|          85|           80|94.11764705882354|            3.0|3.5294117647058822|            2.0| 2.3529411764705883|\n",
            "|       Redding, CA|           8|            8|            100.0|            0.0|               0.0|            0.0|                0.0|\n",
            "|       Durango, CO|           9|            9|            100.0|            0.0|               0.0|            0.0|                0.0|\n",
            "|      Gustavus, AK|           1|            1|            100.0|            0.0|               0.0|            0.0|                0.0|\n",
            "|Corpus Christi, TX|          48|           48|            100.0|            0.0|               0.0|            0.0|                0.0|\n",
            "|        Mobile, AL|          33|           33|            100.0|            0.0|               0.0|            0.0|                0.0|\n",
            "|       Dubuque, IA|           6|            5|83.33333333333333|            1.0|16.666666666666668|            0.0|                0.0|\n",
            "|    Fort Myers, FL|         193|          189|97.92746113989638|            4.0|2.0725388601036268|            0.0|                0.0|\n",
            "|    Huntsville, AL|          67|           62|92.53731343283582|            5.0| 7.462686567164179|            0.0|                0.0|\n",
            "|     Pensacola, FL|          73|           72|98.63013698630137|            1.0|  1.36986301369863|            0.0|                0.0|\n",
            "|      Columbus, GA|          14|           14|            100.0|            0.0|               0.0|            0.0|                0.0|\n",
            "|   Springfield, IL|          12|           11|91.66666666666667|            1.0| 8.333333333333334|            0.0|                0.0|\n",
            "+------------------+------------+-------------+-----------------+---------------+------------------+---------------+-------------------+\n",
            "only showing top 20 rows\n",
            "\n"
          ]
        }
      ]
    },
    {
      "cell_type": "code",
      "source": [
        "# multiple group by columns\n",
        "spark.sql(\"select origin,origincityname,count(*) from AirlineTable group by origin,origincityname;\").show()"
      ],
      "metadata": {
        "colab": {
          "base_uri": "https://localhost:8080/"
        },
        "id": "AMlwbUiZRTKa",
        "outputId": "4c1cf767-516d-4445-fbc6-2c76b47cd0a2"
      },
      "execution_count": 29,
      "outputs": [
        {
          "output_type": "stream",
          "name": "stdout",
          "text": [
            "+------+--------------------+--------+\n",
            "|origin|      origincityname|count(1)|\n",
            "+------+--------------------+--------+\n",
            "|   COS|Colorado Springs, CO|     100|\n",
            "|   SDF|      Louisville, KY|     175|\n",
            "|   CLL|College Station/B...|      10|\n",
            "|   PIR|          Pierre, SD|       1|\n",
            "|   MSN|         Madison, WI|      81|\n",
            "|   EVV|      Evansville, IN|      18|\n",
            "|   CMI|Champaign/Urbana, IL|      10|\n",
            "|   GTR|        Columbus, MS|       2|\n",
            "|   RIC|        Richmond, VA|     146|\n",
            "|   STX|   Christiansted, VI|      11|\n",
            "|   FLO|        Florence, SC|       4|\n",
            "|   DCA|      Washington, DC|     704|\n",
            "|   IPL|       El Centro, CA|       1|\n",
            "|   CKB|Clarksburg/Fairmo...|       1|\n",
            "|   GRI|    Grand Island, NE|       3|\n",
            "|   ITO|            Hilo, HI|      26|\n",
            "|   MSP|     Minneapolis, MN|    1128|\n",
            "|   AVL|       Asheville, NC|      29|\n",
            "|   CHS|      Charleston, SC|     109|\n",
            "|   PIT|      Pittsburgh, PA|     641|\n",
            "+------+--------------------+--------+\n",
            "only showing top 20 rows\n",
            "\n"
          ]
        }
      ]
    },
    {
      "cell_type": "code",
      "source": [
        "# rank of origin by number of flights\n",
        "spark.sql(\"select rank() over (ORDER BY count(*)desc),origin,origincityname,count(*) from AirlineTable where group by origin,origincityname;\").show()"
      ],
      "metadata": {
        "colab": {
          "base_uri": "https://localhost:8080/"
        },
        "id": "d7jHRZ-uRZ6g",
        "outputId": "8be2830e-ba06-4ca2-9f9c-67edea3b3098"
      },
      "execution_count": 30,
      "outputs": [
        {
          "output_type": "stream",
          "name": "stdout",
          "text": [
            "+------------------------------------------------------------------------------------------------+------+--------------------+--------+\n",
            "|RANK() OVER (ORDER BY count(1) DESC NULLS LAST ROWS BETWEEN UNBOUNDED PRECEDING AND CURRENT ROW)|origin|      origincityname|count(1)|\n",
            "+------------------------------------------------------------------------------------------------+------+--------------------+--------+\n",
            "|                                                                                               1|   ATL|         Atlanta, GA|    2669|\n",
            "|                                                                                               2|   ORD|         Chicago, IL|    2536|\n",
            "|                                                                                               3|   DFW|Dallas/Fort Worth...|    2188|\n",
            "|                                                                                               4|   LAX|     Los Angeles, CA|    1718|\n",
            "|                                                                                               5|   DEN|          Denver, CO|    1592|\n",
            "|                                                                                               6|   PHX|         Phoenix, AZ|    1340|\n",
            "|                                                                                               7|   IAH|         Houston, TX|    1212|\n",
            "|                                                                                               8|   DTW|         Detroit, MI|    1190|\n",
            "|                                                                                               9|   MSP|     Minneapolis, MN|    1128|\n",
            "|                                                                                               9|   SFO|   San Francisco, CA|    1128|\n",
            "|                                                                                              11|   LAS|       Las Vegas, NV|    1112|\n",
            "|                                                                                              12|   EWR|          Newark, NJ|    1032|\n",
            "|                                                                                              13|   CLT|       Charlotte, NC|     994|\n",
            "|                                                                                              14|   LGA|        New York, NY|     954|\n",
            "|                                                                                              15|   MCO|         Orlando, FL|     890|\n",
            "|                                                                                              16|   BOS|          Boston, MA|     884|\n",
            "|                                                                                              17|   SEA|         Seattle, WA|     855|\n",
            "|                                                                                              18|   STL|       St. Louis, MO|     846|\n",
            "|                                                                                              19|   SLC|  Salt Lake City, UT|     830|\n",
            "|                                                                                              20|   PHL|    Philadelphia, PA|     784|\n",
            "+------------------------------------------------------------------------------------------------+------+--------------------+--------+\n",
            "only showing top 20 rows\n",
            "\n"
          ]
        }
      ]
    },
    {
      "cell_type": "code",
      "source": [
        "#total air time and distance travel by flights\n",
        "spark.sql(\"select AirTime,Distance from AirlineTable\").show()"
      ],
      "metadata": {
        "colab": {
          "base_uri": "https://localhost:8080/"
        },
        "id": "Z8fOX9YlRm3Y",
        "outputId": "336f814d-9f57-456b-9bc2-17f1e4b047b3"
      },
      "execution_count": 31,
      "outputs": [
        {
          "output_type": "stream",
          "name": "stdout",
          "text": [
            "+-------+--------+\n",
            "|AirTime|Distance|\n",
            "+-------+--------+\n",
            "|  153.0|   991.0|\n",
            "|  141.0|  1066.0|\n",
            "|  103.0|   773.0|\n",
            "|  220.0|  1979.0|\n",
            "|   80.0|   529.0|\n",
            "|   28.0|   190.0|\n",
            "|   94.0|   563.0|\n",
            "|   35.0|   192.0|\n",
            "|   59.0|   316.0|\n",
            "|  114.0|   793.0|\n",
            "|   NULL|   109.0|\n",
            "|   77.0|   562.0|\n",
            "|   NULL|  1045.0|\n",
            "|   95.0|   677.0|\n",
            "|   99.0|   733.0|\n",
            "|   NULL|   278.0|\n",
            "|   24.0|    98.0|\n",
            "|  102.0|   689.0|\n",
            "|  255.0|  2288.0|\n",
            "|   NULL|   373.0|\n",
            "+-------+--------+\n",
            "only showing top 20 rows\n",
            "\n"
          ]
        }
      ]
    },
    {
      "cell_type": "code",
      "source": [
        "#speed of flights in miles/hour\n",
        "df3 = spark.sql(\"select AirTime/60 As AirTime_Hour,Distance from AirlineTable\")"
      ],
      "metadata": {
        "id": "fJ34hqq0Rq6U"
      },
      "execution_count": 32,
      "outputs": []
    },
    {
      "cell_type": "code",
      "source": [
        "df3.registerTempTable(\"AirlineTable3\")"
      ],
      "metadata": {
        "id": "iA2YfW_2R0_s"
      },
      "execution_count": 33,
      "outputs": []
    },
    {
      "cell_type": "code",
      "source": [
        "spark.sql(\"select AirTime_Hour,Distance, (Distance/AirTime_Hour) as speed from AirlineTable3\").show()"
      ],
      "metadata": {
        "colab": {
          "base_uri": "https://localhost:8080/"
        },
        "id": "fLwS7CSnR4oB",
        "outputId": "481a02e0-19c8-4d67-de55-30279cd431f3"
      },
      "execution_count": 36,
      "outputs": [
        {
          "output_type": "stream",
          "name": "stdout",
          "text": [
            "+------------------+--------+------------------+\n",
            "|      AirTime_Hour|Distance|             speed|\n",
            "+------------------+--------+------------------+\n",
            "|              2.55|   991.0| 388.6274509803922|\n",
            "|              2.35|  1066.0| 453.6170212765957|\n",
            "|1.7166666666666666|   773.0|450.29126213592235|\n",
            "|3.6666666666666665|  1979.0| 539.7272727272727|\n",
            "|1.3333333333333333|   529.0|            396.75|\n",
            "|0.4666666666666667|   190.0| 407.1428571428571|\n",
            "|1.5666666666666667|   563.0|359.36170212765956|\n",
            "|0.5833333333333334|   192.0| 329.1428571428571|\n",
            "|0.9833333333333333|   316.0|321.35593220338984|\n",
            "|               1.9|   793.0| 417.3684210526316|\n",
            "|              NULL|   109.0|              NULL|\n",
            "|1.2833333333333334|   562.0| 437.9220779220779|\n",
            "|              NULL|  1045.0|              NULL|\n",
            "|1.5833333333333333|   677.0| 427.5789473684211|\n",
            "|              1.65|   733.0|444.24242424242425|\n",
            "|              NULL|   278.0|              NULL|\n",
            "|               0.4|    98.0|             245.0|\n",
            "|               1.7|   689.0|405.29411764705884|\n",
            "|              4.25|  2288.0| 538.3529411764706|\n",
            "|              NULL|   373.0|              NULL|\n",
            "+------------------+--------+------------------+\n",
            "only showing top 20 rows\n",
            "\n"
          ]
        }
      ]
    },
    {
      "cell_type": "code",
      "source": [
        "df4 = spark.sql(\"select AirTime/60 As AirTime_Hour,Distance from AirlineTable\")\n",
        "df4.registerTempTable(\"AirlineTable4\")"
      ],
      "metadata": {
        "colab": {
          "base_uri": "https://localhost:8080/"
        },
        "id": "8Hc3LKA-SD3n",
        "outputId": "b8424829-c657-4d98-d50b-c94f97656beb"
      },
      "execution_count": 37,
      "outputs": [
        {
          "output_type": "stream",
          "name": "stderr",
          "text": [
            "/usr/local/lib/python3.10/dist-packages/pyspark/sql/dataframe.py:329: FutureWarning: Deprecated in 2.0, use createOrReplaceTempView instead.\n",
            "  warnings.warn(\"Deprecated in 2.0, use createOrReplaceTempView instead.\", FutureWarning)\n"
          ]
        }
      ]
    },
    {
      "cell_type": "code",
      "source": [
        "spark.sql(\"select max(Distance/AirTime_Hour) as speed from AirlineTable4\").show()"
      ],
      "metadata": {
        "colab": {
          "base_uri": "https://localhost:8080/"
        },
        "id": "94wvHzRPSlqi",
        "outputId": "9a6da83b-c9d0-4b67-aa38-6ddf004e280a"
      },
      "execution_count": 38,
      "outputs": [
        {
          "output_type": "stream",
          "name": "stdout",
          "text": [
            "+-------+\n",
            "|  speed|\n",
            "+-------+\n",
            "|17520.0|\n",
            "+-------+\n",
            "\n"
          ]
        }
      ]
    },
    {
      "cell_type": "code",
      "source": [],
      "metadata": {
        "id": "BEJNswtBSr1a"
      },
      "execution_count": null,
      "outputs": []
    }
  ]
}