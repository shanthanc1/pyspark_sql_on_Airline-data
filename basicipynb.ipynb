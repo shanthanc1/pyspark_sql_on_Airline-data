{
  "nbformat": 4,
  "nbformat_minor": 0,
  "metadata": {
    "colab": {
      "provenance": []
    },
    "kernelspec": {
      "name": "python3",
      "display_name": "Python 3"
    },
    "language_info": {
      "name": "python"
    }
  },
  "cells": [
    {
      "cell_type": "code",
      "execution_count": 1,
      "metadata": {
        "colab": {
          "base_uri": "https://localhost:8080/",
          "height": 0
        },
        "id": "ax8rBz6__YBS",
        "outputId": "fb399a8c-9904-4991-fe6d-b1d0e5e2f47e"
      },
      "outputs": [
        {
          "output_type": "stream",
          "name": "stdout",
          "text": [
            "Collecting pyspark\n",
            "  Downloading pyspark-3.5.0.tar.gz (316.9 MB)\n",
            "\u001b[2K     \u001b[90m━━━━━━━━━━━━━━━━━━━━━━━━━━━━━━━━━━━━━━━\u001b[0m \u001b[32m316.9/316.9 MB\u001b[0m \u001b[31m2.5 MB/s\u001b[0m eta \u001b[36m0:00:00\u001b[0m\n",
            "\u001b[?25h  Preparing metadata (setup.py) ... \u001b[?25l\u001b[?25hdone\n",
            "Requirement already satisfied: py4j==0.10.9.7 in /usr/local/lib/python3.10/dist-packages (from pyspark) (0.10.9.7)\n",
            "Building wheels for collected packages: pyspark\n",
            "  Building wheel for pyspark (setup.py) ... \u001b[?25l\u001b[?25hdone\n",
            "  Created wheel for pyspark: filename=pyspark-3.5.0-py2.py3-none-any.whl size=317425344 sha256=d9a6db9e28fc102a5e6c4b571567614925d1e3ed2994adddcf23c2e988ae40d8\n",
            "  Stored in directory: /root/.cache/pip/wheels/41/4e/10/c2cf2467f71c678cfc8a6b9ac9241e5e44a01940da8fbb17fc\n",
            "Successfully built pyspark\n",
            "Installing collected packages: pyspark\n",
            "Successfully installed pyspark-3.5.0\n"
          ]
        }
      ],
      "source": [
        "!pip install pyspark"
      ]
    },
    {
      "cell_type": "code",
      "source": [
        "import pyspark"
      ],
      "metadata": {
        "id": "yJLf2PD__cJj"
      },
      "execution_count": 2,
      "outputs": []
    },
    {
      "cell_type": "code",
      "source": [
        "from pyspark.sql import SparkSession"
      ],
      "metadata": {
        "id": "NdctUzaf_15h"
      },
      "execution_count": 3,
      "outputs": []
    },
    {
      "cell_type": "code",
      "source": [
        "spark = SparkSession.builder.appName(\"case_study_sql\").getOrCreate()"
      ],
      "metadata": {
        "id": "RwfTGPyc_7NZ"
      },
      "execution_count": 4,
      "outputs": []
    },
    {
      "cell_type": "markdown",
      "source": [
        "Create DataFrame"
      ],
      "metadata": {
        "id": "UEzMbi1WATHF"
      }
    },
    {
      "cell_type": "code",
      "source": [
        "data = [('Alice', 27, 25000),('Tom', 25, 30000),('Jack', 22, 19000),('Daniel', 30, 35000)]"
      ],
      "metadata": {
        "id": "KhjRSOoYAWFu"
      },
      "execution_count": 5,
      "outputs": []
    },
    {
      "cell_type": "code",
      "source": [
        "sqlDF = spark.createDataFrame(data, ['name', 'age', 'salary'])"
      ],
      "metadata": {
        "id": "IEcnxNP0AfFm"
      },
      "execution_count": 6,
      "outputs": []
    },
    {
      "cell_type": "code",
      "source": [
        "sqlDF.show()"
      ],
      "metadata": {
        "colab": {
          "base_uri": "https://localhost:8080/",
          "height": 0
        },
        "id": "jRwpWWjUAmF9",
        "outputId": "65adda60-acc7-48d2-a5d4-976a0c9cf6fa"
      },
      "execution_count": 7,
      "outputs": [
        {
          "output_type": "stream",
          "name": "stdout",
          "text": [
            "+------+---+------+\n",
            "|  name|age|salary|\n",
            "+------+---+------+\n",
            "| Alice| 27| 25000|\n",
            "|   Tom| 25| 30000|\n",
            "|  Jack| 22| 19000|\n",
            "|Daniel| 30| 35000|\n",
            "+------+---+------+\n",
            "\n"
          ]
        }
      ]
    },
    {
      "cell_type": "code",
      "source": [
        "sqlDF.createOrReplaceTempView(\"person\")"
      ],
      "metadata": {
        "id": "lxm1s6rKAo6B"
      },
      "execution_count": 8,
      "outputs": []
    },
    {
      "cell_type": "code",
      "source": [
        "spark.sql(\"SELECT * from person\").show()"
      ],
      "metadata": {
        "colab": {
          "base_uri": "https://localhost:8080/",
          "height": 0
        },
        "id": "SWoagSXYBrTa",
        "outputId": "f3ca3bf9-8807-4a09-af77-8ad79a532e10"
      },
      "execution_count": 9,
      "outputs": [
        {
          "output_type": "stream",
          "name": "stdout",
          "text": [
            "+------+---+------+\n",
            "|  name|age|salary|\n",
            "+------+---+------+\n",
            "| Alice| 27| 25000|\n",
            "|   Tom| 25| 30000|\n",
            "|  Jack| 22| 19000|\n",
            "|Daniel| 30| 35000|\n",
            "+------+---+------+\n",
            "\n"
          ]
        }
      ]
    },
    {
      "cell_type": "code",
      "source": [
        "newDF = spark.table(\"person\")"
      ],
      "metadata": {
        "id": "ssTXKKJOBug3"
      },
      "execution_count": 10,
      "outputs": []
    },
    {
      "cell_type": "code",
      "source": [
        "newDF.show()"
      ],
      "metadata": {
        "colab": {
          "base_uri": "https://localhost:8080/",
          "height": 0
        },
        "id": "4X4H0BPoB7WO",
        "outputId": "1f1de3cf-b61f-40e2-b9ad-bcc5cc6e1c46"
      },
      "execution_count": 11,
      "outputs": [
        {
          "output_type": "stream",
          "name": "stdout",
          "text": [
            "+------+---+------+\n",
            "|  name|age|salary|\n",
            "+------+---+------+\n",
            "| Alice| 27| 25000|\n",
            "|   Tom| 25| 30000|\n",
            "|  Jack| 22| 19000|\n",
            "|Daniel| 30| 35000|\n",
            "+------+---+------+\n",
            "\n"
          ]
        }
      ]
    },
    {
      "cell_type": "code",
      "source": [
        "sqlDF.registerTempTable(\"person1\")"
      ],
      "metadata": {
        "colab": {
          "base_uri": "https://localhost:8080/",
          "height": 0
        },
        "id": "uyC6KTiHCD3i",
        "outputId": "3bac8403-125f-474a-82b5-9b3752805bc5"
      },
      "execution_count": 12,
      "outputs": [
        {
          "output_type": "stream",
          "name": "stderr",
          "text": [
            "/usr/local/lib/python3.10/dist-packages/pyspark/sql/dataframe.py:329: FutureWarning: Deprecated in 2.0, use createOrReplaceTempView instead.\n",
            "  warnings.warn(\"Deprecated in 2.0, use createOrReplaceTempView instead.\", FutureWarning)\n"
          ]
        }
      ]
    },
    {
      "cell_type": "code",
      "source": [
        "spark.sql(\"select * from person1\").show()"
      ],
      "metadata": {
        "colab": {
          "base_uri": "https://localhost:8080/",
          "height": 0
        },
        "id": "WjuzkewTCGzB",
        "outputId": "9bf68927-98e5-45bd-d8ec-d9f3ebd28d25"
      },
      "execution_count": 13,
      "outputs": [
        {
          "output_type": "stream",
          "name": "stdout",
          "text": [
            "+------+---+------+\n",
            "|  name|age|salary|\n",
            "+------+---+------+\n",
            "| Alice| 27| 25000|\n",
            "|   Tom| 25| 30000|\n",
            "|  Jack| 22| 19000|\n",
            "|Daniel| 30| 35000|\n",
            "+------+---+------+\n",
            "\n"
          ]
        }
      ]
    },
    {
      "cell_type": "code",
      "source": [
        "spark.catalog.dropTempView(\"person\")"
      ],
      "metadata": {
        "colab": {
          "base_uri": "https://localhost:8080/",
          "height": 0
        },
        "id": "QxtYdBncCPXK",
        "outputId": "8ccce4d5-5491-433f-bb5c-1156346b807e"
      },
      "execution_count": 14,
      "outputs": [
        {
          "output_type": "execute_result",
          "data": {
            "text/plain": [
              "True"
            ]
          },
          "metadata": {},
          "execution_count": 14
        }
      ]
    },
    {
      "cell_type": "markdown",
      "source": [
        "Some SQL queries"
      ],
      "metadata": {
        "id": "bf_a7SDiD8kZ"
      }
    },
    {
      "cell_type": "code",
      "source": [
        "spark.sql(\"SELECT name,age from person1\").show()"
      ],
      "metadata": {
        "colab": {
          "base_uri": "https://localhost:8080/",
          "height": 0
        },
        "id": "5NCCx6W3D_i2",
        "outputId": "4436aa09-3450-49e3-f59a-5c8e2aa47252"
      },
      "execution_count": 17,
      "outputs": [
        {
          "output_type": "stream",
          "name": "stdout",
          "text": [
            "+------+---+\n",
            "|  name|age|\n",
            "+------+---+\n",
            "| Alice| 27|\n",
            "|   Tom| 25|\n",
            "|  Jack| 22|\n",
            "|Daniel| 30|\n",
            "+------+---+\n",
            "\n"
          ]
        }
      ]
    },
    {
      "cell_type": "code",
      "source": [
        "spark.sql(\"SELECT max(salary) from person1\").show()"
      ],
      "metadata": {
        "colab": {
          "base_uri": "https://localhost:8080/",
          "height": 0
        },
        "id": "g03aXt6CED2t",
        "outputId": "975f2260-f0d8-4d6a-8221-65a4a7385eb5"
      },
      "execution_count": 18,
      "outputs": [
        {
          "output_type": "stream",
          "name": "stdout",
          "text": [
            "+-----------+\n",
            "|max(salary)|\n",
            "+-----------+\n",
            "|      35000|\n",
            "+-----------+\n",
            "\n"
          ]
        }
      ]
    },
    {
      "cell_type": "code",
      "source": [
        "spark.sql(\"SELECT avg(salary) from person1\").show()"
      ],
      "metadata": {
        "colab": {
          "base_uri": "https://localhost:8080/",
          "height": 0
        },
        "id": "ypLWZIISEGLk",
        "outputId": "d5444c94-a148-419e-a0f5-48a1ded0978e"
      },
      "execution_count": 19,
      "outputs": [
        {
          "output_type": "stream",
          "name": "stdout",
          "text": [
            "+-----------+\n",
            "|avg(salary)|\n",
            "+-----------+\n",
            "|    27250.0|\n",
            "+-----------+\n",
            "\n"
          ]
        }
      ]
    },
    {
      "cell_type": "code",
      "source": [
        "spark.sql(\"SELECT sum(salary) as Total_Salary from person1\").show()"
      ],
      "metadata": {
        "colab": {
          "base_uri": "https://localhost:8080/",
          "height": 0
        },
        "id": "HGrBqQqEEI8v",
        "outputId": "0dce2a61-310a-40dc-e66b-ffb3d67f2674"
      },
      "execution_count": 20,
      "outputs": [
        {
          "output_type": "stream",
          "name": "stdout",
          "text": [
            "+------------+\n",
            "|Total_Salary|\n",
            "+------------+\n",
            "|      109000|\n",
            "+------------+\n",
            "\n"
          ]
        }
      ]
    },
    {
      "cell_type": "code",
      "source": [
        "spark.sql(\"SELECT * from person1 where salary > 20000\").show()"
      ],
      "metadata": {
        "colab": {
          "base_uri": "https://localhost:8080/",
          "height": 0
        },
        "id": "-0YkGAJcEMdi",
        "outputId": "2aad6598-a277-4a39-dad4-6fbeb16a986a"
      },
      "execution_count": 21,
      "outputs": [
        {
          "output_type": "stream",
          "name": "stdout",
          "text": [
            "+------+---+------+\n",
            "|  name|age|salary|\n",
            "+------+---+------+\n",
            "| Alice| 27| 25000|\n",
            "|   Tom| 25| 30000|\n",
            "|Daniel| 30| 35000|\n",
            "+------+---+------+\n",
            "\n"
          ]
        }
      ]
    },
    {
      "cell_type": "code",
      "source": [
        "spark.sql(\"SELECT * from person1 where salary > 20000 and age > 25\").show()"
      ],
      "metadata": {
        "colab": {
          "base_uri": "https://localhost:8080/",
          "height": 0
        },
        "id": "kPYosTbHEO0s",
        "outputId": "aba665ea-d8f2-4a92-d13b-ae2a977ec02d"
      },
      "execution_count": 22,
      "outputs": [
        {
          "output_type": "stream",
          "name": "stdout",
          "text": [
            "+------+---+------+\n",
            "|  name|age|salary|\n",
            "+------+---+------+\n",
            "| Alice| 27| 25000|\n",
            "|Daniel| 30| 35000|\n",
            "+------+---+------+\n",
            "\n"
          ]
        }
      ]
    },
    {
      "cell_type": "markdown",
      "source": [
        "JOINS"
      ],
      "metadata": {
        "id": "V__Ez7iUEWSN"
      }
    },
    {
      "cell_type": "code",
      "source": [
        "x = [('Pirate',1),('Monkey',2),('Ninja',7),('Spaghetti',4)]\n",
        "df1 = spark.createDataFrame(x,['name','id'])\n",
        "\n",
        "y = [('Rutabaga',1),('Pirate',5),('Ninja',3),('Darth Vader',4)]\n",
        "df2 = spark.createDataFrame(y,['name','id'])\n",
        ""
      ],
      "metadata": {
        "id": "SP8Rc7clEYRa"
      },
      "execution_count": 23,
      "outputs": []
    },
    {
      "cell_type": "code",
      "source": [
        "df1.registerTempTable(\"table1\")\n",
        "df2.registerTempTable(\"table2\")"
      ],
      "metadata": {
        "colab": {
          "base_uri": "https://localhost:8080/",
          "height": 0
        },
        "id": "DUnzv0cWFUPv",
        "outputId": "bc8207cd-a27f-484f-b77b-462061ae0978"
      },
      "execution_count": 24,
      "outputs": [
        {
          "output_type": "stream",
          "name": "stderr",
          "text": [
            "/usr/local/lib/python3.10/dist-packages/pyspark/sql/dataframe.py:329: FutureWarning: Deprecated in 2.0, use createOrReplaceTempView instead.\n",
            "  warnings.warn(\"Deprecated in 2.0, use createOrReplaceTempView instead.\", FutureWarning)\n"
          ]
        }
      ]
    },
    {
      "cell_type": "code",
      "source": [
        "spark.sql(\"SELECT table1.*,table2.* FROM table2 inner JOIN table1 ON table2.id = table1.id\").show()"
      ],
      "metadata": {
        "colab": {
          "base_uri": "https://localhost:8080/",
          "height": 0
        },
        "id": "sk46D1lTFWzv",
        "outputId": "23a7b53c-17bb-4a3e-8cd6-7ff3d57177ee"
      },
      "execution_count": 25,
      "outputs": [
        {
          "output_type": "stream",
          "name": "stdout",
          "text": [
            "+---------+---+-----------+---+\n",
            "|     name| id|       name| id|\n",
            "+---------+---+-----------+---+\n",
            "|   Pirate|  1|   Rutabaga|  1|\n",
            "|Spaghetti|  4|Darth Vader|  4|\n",
            "+---------+---+-----------+---+\n",
            "\n"
          ]
        }
      ]
    },
    {
      "cell_type": "code",
      "source": [
        "spark.sql(\"SELECT table1.*,table2.* FROM table2 left JOIN table1 ON table2.id = table1.id\").show()"
      ],
      "metadata": {
        "colab": {
          "base_uri": "https://localhost:8080/",
          "height": 0
        },
        "id": "Ofb1FE0aFZZB",
        "outputId": "d6bdeacb-a00d-4608-d63b-d885b1c80b77"
      },
      "execution_count": 26,
      "outputs": [
        {
          "output_type": "stream",
          "name": "stdout",
          "text": [
            "+---------+----+-----------+---+\n",
            "|     name|  id|       name| id|\n",
            "+---------+----+-----------+---+\n",
            "|     NULL|NULL|     Pirate|  5|\n",
            "|   Pirate|   1|   Rutabaga|  1|\n",
            "|     NULL|NULL|      Ninja|  3|\n",
            "|Spaghetti|   4|Darth Vader|  4|\n",
            "+---------+----+-----------+---+\n",
            "\n"
          ]
        }
      ]
    },
    {
      "cell_type": "code",
      "source": [
        "spark.sql(\"SELECT table1.*,table2.* FROM table2 right JOIN table1 ON table2.id = table1.id\").show()"
      ],
      "metadata": {
        "colab": {
          "base_uri": "https://localhost:8080/",
          "height": 0
        },
        "id": "XkbXVwFeFb3s",
        "outputId": "a12e965a-6f02-4e17-a216-83817d667463"
      },
      "execution_count": 27,
      "outputs": [
        {
          "output_type": "stream",
          "name": "stdout",
          "text": [
            "+---------+---+-----------+----+\n",
            "|     name| id|       name|  id|\n",
            "+---------+---+-----------+----+\n",
            "|   Pirate|  1|   Rutabaga|   1|\n",
            "|   Monkey|  2|       NULL|NULL|\n",
            "|    Ninja|  7|       NULL|NULL|\n",
            "|Spaghetti|  4|Darth Vader|   4|\n",
            "+---------+---+-----------+----+\n",
            "\n"
          ]
        }
      ]
    },
    {
      "cell_type": "code",
      "source": [
        "spark.sql(\"SELECT table1.*,table2.* FROM table2 full JOIN table1 ON table2.id = table1.id\").show()"
      ],
      "metadata": {
        "colab": {
          "base_uri": "https://localhost:8080/",
          "height": 0
        },
        "id": "ztvUDuwXFiYN",
        "outputId": "f708bd6b-6b5f-421e-e93c-441d13d21a53"
      },
      "execution_count": 28,
      "outputs": [
        {
          "output_type": "stream",
          "name": "stdout",
          "text": [
            "+---------+----+-----------+----+\n",
            "|     name|  id|       name|  id|\n",
            "+---------+----+-----------+----+\n",
            "|   Pirate|   1|   Rutabaga|   1|\n",
            "|   Monkey|   2|       NULL|NULL|\n",
            "|     NULL|NULL|      Ninja|   3|\n",
            "|Spaghetti|   4|Darth Vader|   4|\n",
            "|     NULL|NULL|     Pirate|   5|\n",
            "|    Ninja|   7|       NULL|NULL|\n",
            "+---------+----+-----------+----+\n",
            "\n"
          ]
        }
      ]
    },
    {
      "cell_type": "code",
      "source": [
        "spark.sql(\"SELECT table2.* FROM table2 left anti JOIN table1 ON table2.id = table1.id\").show()"
      ],
      "metadata": {
        "colab": {
          "base_uri": "https://localhost:8080/",
          "height": 0
        },
        "id": "kzAUFDjQFlxX",
        "outputId": "3c109e89-01ee-4b30-aa40-f675462d1b28"
      },
      "execution_count": 29,
      "outputs": [
        {
          "output_type": "stream",
          "name": "stdout",
          "text": [
            "+------+---+\n",
            "|  name| id|\n",
            "+------+---+\n",
            "|Pirate|  5|\n",
            "| Ninja|  3|\n",
            "+------+---+\n",
            "\n"
          ]
        }
      ]
    },
    {
      "cell_type": "code",
      "source": [
        "spark.sql(\"SELECT table2.* FROM table2 left semi JOIN table1 ON table2.id = table1.id\").show()"
      ],
      "metadata": {
        "colab": {
          "base_uri": "https://localhost:8080/",
          "height": 0
        },
        "id": "Fxu7o5emFoHE",
        "outputId": "760a513f-92fe-46a3-9993-ac6037bf19e8"
      },
      "execution_count": 30,
      "outputs": [
        {
          "output_type": "stream",
          "name": "stdout",
          "text": [
            "+-----------+---+\n",
            "|       name| id|\n",
            "+-----------+---+\n",
            "|   Rutabaga|  1|\n",
            "|Darth Vader|  4|\n",
            "+-----------+---+\n",
            "\n"
          ]
        }
      ]
    }
  ]
}